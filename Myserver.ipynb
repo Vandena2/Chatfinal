{
 "cells": [
  {
   "cell_type": "code",
   "execution_count": 1,
   "id": "80f83509-5142-4042-9c09-0b3000506faf",
   "metadata": {},
   "outputs": [],
   "source": [
    "import socket\n",
    "import threading"
   ]
  },
  {
   "cell_type": "code",
   "execution_count": null,
   "id": "81b771a6-027f-4635-9611-28b75b3d2e22",
   "metadata": {},
   "outputs": [
    {
     "name": "stdout",
     "output_type": "stream",
     "text": [
      "Server running\n",
      "Joined with ('192.168.1.41', 52961)\n",
      "The preferred name is b'User1'\n",
      "b'User1' says b'User1: hey\\n' \n",
      "Joined with ('192.168.1.41', 52971)\n",
      "The preferred name is b'User2'\n",
      "b'User2' says b'User2: Hi user\\n' \n",
      "b'User1' says b'User1: How are you\\n' \n",
      "b'User2' says b'User2: I am good\\n' \n"
     ]
    }
   ],
   "source": [
    "HOST='192.168.1.41'\n",
    "PORT= 1111\n",
    "\n",
    "server= socket.socket(socket.AF_INET, socket.SOCK_STREAM)\n",
    "server.bind((HOST, PORT))\n",
    "server.listen()\n",
    "clients=[]\n",
    "nicknames=[]\n",
    "\n",
    "#Brocast function\n",
    "\n",
    "def broadcast(message):# learn class and this \n",
    "    for client in clients:\n",
    "        client.send(message)\n",
    "        \n",
    "#Manage function to handle         \n",
    "def manage(client):\n",
    "    while True: #Learn while loop\n",
    "        try:\n",
    "            message= client.recv(1024)\n",
    "            print(f\"{nicknames[clients.index(client)]} says {message} \") #Know the diff between brackets\n",
    "            broadcast(message)\n",
    "        except:\n",
    "            index= clients.index(client)\n",
    "            clients.remove(client)\n",
    "            client.remove()\n",
    "            nickname=nicknames[index]\n",
    "            nicknames.remove(nickname)\n",
    "            break\n",
    "            \n",
    "\n",
    "#Receive function\n",
    "def receive():\n",
    "    while True:\n",
    "        client, address = server.accept()\n",
    "        print(f\"Joined with {str(address)}\")\n",
    "        client.send(\"NAME YOU WANT\".encode('utf-8'))#learn\n",
    "        clients.append(client)\n",
    "        nickname= client.recv(1024)\n",
    "        nicknames.append(nickname)\n",
    "        print(f\"The preferred name is {nickname}\")\n",
    "        broadcast(f\"{nickname} joined \\n\".encode('utf-8'))\n",
    "        client.send(\"Joined with the server\".encode('utf-8'))\n",
    "\n",
    "        thread= threading.Thread(target=manage, args= (client,)) #learn\n",
    "\n",
    "        thread.start()\n",
    "\n",
    "print(\"Server running\")\n",
    "receive()"
   ]
  },
  {
   "cell_type": "code",
   "execution_count": null,
   "id": "0d43a0d1-c581-4656-8743-8e9e49a56834",
   "metadata": {},
   "outputs": [],
   "source": []
  }
 ],
 "metadata": {
  "kernelspec": {
   "display_name": "Python 3 (ipykernel)",
   "language": "python",
   "name": "python3"
  },
  "language_info": {
   "codemirror_mode": {
    "name": "ipython",
    "version": 3
   },
   "file_extension": ".py",
   "mimetype": "text/x-python",
   "name": "python",
   "nbconvert_exporter": "python",
   "pygments_lexer": "ipython3",
   "version": "3.11.7"
  }
 },
 "nbformat": 4,
 "nbformat_minor": 5
}
